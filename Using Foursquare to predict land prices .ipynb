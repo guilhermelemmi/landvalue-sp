{
    "nbformat_minor": 1, 
    "cells": [
        {
            "source": "# Using Foursquare to predict land prices in S\u00e3o Paulo", 
            "cell_type": "markdown", 
            "metadata": {
                "collapsed": true
            }
        }, 
        {
            "source": "_Capstone project for the IBM Professional Data Science Certification program_\n\nIn this project we use Foursquare venue locations associated with publicly available land value data to create a model to predict land prices using Regression algorithms.", 
            "cell_type": "markdown", 
            "metadata": {}
        }, 
        {
            "source": "## Introduction", 
            "cell_type": "markdown", 
            "metadata": {}
        }, 
        {
            "source": "It is known that close-by ammenities can have an impact on land prices. This project intends to cross information already known from land prices in the city of S\u00e3o Paulo, Brazil, with Foursquare venue locations, in order to create a model capable to predict land prices for a given location in the city.\n\nThe main beneficiaries from this report would be real estate investors and agents, followed by anyone searching for a good place to live in this gigantic city. Also, it adds value to the Data Science community, by exposing the results of the conducted research to evaluate if the use of Foursquare can benefit other land price prediction models.", 
            "cell_type": "markdown", 
            "metadata": {}
        }, 
        {
            "source": "## Data", 
            "cell_type": "markdown", 
            "metadata": {}
        }, 
        {
            "source": "To perform this research, two main datasets will be used:\n\n- Foursquare venue locations (extracted from the Foursquare API);\n- Public data from S\u00e3o Paulo's city hall related with land value for each city address;", 
            "cell_type": "markdown", 
            "metadata": {}
        }, 
        {
            "execution_count": null, 
            "cell_type": "code", 
            "metadata": {}, 
            "outputs": [], 
            "source": ""
        }
    ], 
    "metadata": {
        "kernelspec": {
            "display_name": "Python 3.6", 
            "name": "python3", 
            "language": "python"
        }, 
        "language_info": {
            "mimetype": "text/x-python", 
            "nbconvert_exporter": "python", 
            "version": "3.6.8", 
            "name": "python", 
            "file_extension": ".py", 
            "pygments_lexer": "ipython3", 
            "codemirror_mode": {
                "version": 3, 
                "name": "ipython"
            }
        }
    }, 
    "nbformat": 4
}